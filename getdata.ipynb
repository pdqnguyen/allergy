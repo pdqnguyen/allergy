{
 "cells": [
  {
   "cell_type": "code",
   "execution_count": null,
   "metadata": {},
   "outputs": [],
   "source": [
    "from urllib.request import urlopen\n",
    "from urllib.error import HTTPError, URLError\n",
    "from bs4 import BeautifulSoup\n",
    "import pandas as pd\n",
    "import time"
   ]
  },
  {
   "cell_type": "markdown",
   "metadata": {},
   "source": [
    "# Default parameters"
   ]
  },
  {
   "cell_type": "code",
   "execution_count": null,
   "metadata": {},
   "outputs": [],
   "source": [
    "CRAWL_DELAY = 3\n",
    "RETRY_DELAY = 15\n",
    "\n",
    "BASE_URL = 'http://pollen.aaaai.org/nab/index.cfm?p=AllergenCalendar&stationid=1&qsFullDate='\n",
    "LEVELS = {\n",
    "    'absent': 0,\n",
    "    'l': 1,\n",
    "    'm': 2,\n",
    "    'h': 3,\n",
    "    'v': 4\n",
    "}\n",
    "\n",
    "cols = ['trees', 'weeds', 'grass']"
   ]
  },
  {
   "cell_type": "markdown",
   "metadata": {},
   "source": [
    "# Function for fetching data from aaaai.org"
   ]
  },
  {
   "cell_type": "code",
   "execution_count": null,
   "metadata": {},
   "outputs": [],
   "source": [
    "def get_data(year, month):\n",
    "    date_str = '{:02d}/1/{:04d}'.format(month, year)\n",
    "    url = BASE_URL + date_str\n",
    "    with urlopen(url) as r:\n",
    "        html = r.read()\n",
    "        bs = BeautifulSoup(html, 'html.parser')\n",
    "\n",
    "    dates = bs.find_all(attrs={'class': 'nabCalendarDate'})\n",
    "\n",
    "    data = {\n",
    "        'day': [],\n",
    "        'trees': [],\n",
    "        'weeds': [],\n",
    "        'grass': [],\n",
    "        'molds': []\n",
    "    }\n",
    "    for i, date in enumerate(dates):\n",
    "        day = int(date.find('a').text)\n",
    "        data['day'].append(day)\n",
    "        for span in date.find_all('span'):\n",
    "            text = span.text.lower()\n",
    "            level = LEVELS[span['class'][0]]\n",
    "            if text in data.keys():\n",
    "                data[text].append(level)\n",
    "\n",
    "    df = pd.DataFrame(data)\n",
    "    df['month'] = month\n",
    "    df['year'] = year\n",
    "    df = df[['year', 'month', 'day', 'trees', 'weeds', 'grass', 'molds']]\n",
    "    return df"
   ]
  },
  {
   "cell_type": "markdown",
   "metadata": {},
   "source": [
    "# Fetch data for a single month"
   ]
  },
  {
   "cell_type": "code",
   "execution_count": null,
   "metadata": {},
   "outputs": [],
   "source": [
    "month = 4\n",
    "year = 2019\n",
    "df = get_data(year, month)\n",
    "df.index = pd.to_datetime((df.year * 10000 + df.month * 100 + df.day), format='%Y%m%d')\n",
    "df = df[cols]\n",
    "df.to_csv('data/eug-or-{year}-{month:02d}.csv'.format(year=year, month=month))"
   ]
  },
  {
   "cell_type": "markdown",
   "metadata": {},
   "source": [
    "# Fetch data for range of months/years"
   ]
  },
  {
   "cell_type": "code",
   "execution_count": null,
   "metadata": {},
   "outputs": [],
   "source": [
    "df_list = []\n",
    "for year in range(2001, 2021):\n",
    "    for month in range(1, 13):\n",
    "        print(year, month)\n",
    "        while True:\n",
    "            try:\n",
    "                df_ = get_data(year, month)\n",
    "            except (HTTPError, URLError):\n",
    "                print(\"failed... retrying in {} seconds\".format(RETRY_DELAY))\n",
    "                time.sleep(RETRY_DELAY)\n",
    "            else:\n",
    "                break\n",
    "        df_list.append(df_)\n",
    "        time.sleep(CRAWL_DELAY)"
   ]
  },
  {
   "cell_type": "code",
   "execution_count": null,
   "metadata": {},
   "outputs": [],
   "source": [
    "df = pd.concat(df_list, axis=0).reset_index(drop=True)\n",
    "df.index = pd.to_datetime((df.year * 10000 + df.month * 100 + df.day), format='%Y%m%d')\n",
    "df = df[cols]\n",
    "df.to_csv('data/eug-or.csv')"
   ]
  }
 ],
 "metadata": {
  "kernelspec": {
   "display_name": "Python 3",
   "language": "python",
   "name": "python3"
  },
  "language_info": {
   "codemirror_mode": {
    "name": "ipython",
    "version": 3
   },
   "file_extension": ".py",
   "mimetype": "text/x-python",
   "name": "python",
   "nbconvert_exporter": "python",
   "pygments_lexer": "ipython3",
   "version": "3.7.3"
  }
 },
 "nbformat": 4,
 "nbformat_minor": 4
}
